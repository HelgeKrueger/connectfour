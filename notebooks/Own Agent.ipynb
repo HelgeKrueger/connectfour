{
 "cells": [
  {
   "cell_type": "markdown",
   "metadata": {},
   "source": [
    "This is a simple implementation of an agent"
   ]
  },
  {
   "cell_type": "code",
   "execution_count": 1,
   "metadata": {},
   "outputs": [],
   "source": [
    "import sys\n",
    "sys.path.append('..')\n",
    "\n",
    "import random\n",
    "import numpy as np\n",
    "from time import time\n",
    "\n",
    "from connectfour import ConnectFour\n",
    "from agents.agent import Agent\n",
    "\n",
    "from main import evaluate"
   ]
  },
  {
   "cell_type": "code",
   "execution_count": 3,
   "metadata": {},
   "outputs": [
    {
     "name": "stdout",
     "output_type": "stream",
     "text": [
      "Fibonnacci Number  -->   1\n",
      "0 1 2 3 4 5 6\n",
      "              \n",
      "              \n",
      "              \n",
      "              \n",
      "              \n",
      "          x   \n",
      "0 1 2 3 4 5 6\n",
      "0 1 2 3 4 5 6\n",
      "              \n",
      "              \n",
      "              \n",
      "              \n",
      "              \n",
      "      o   x   \n",
      "0 1 2 3 4 5 6\n",
      "Fibonnacci Number  -->   2\n",
      "0 1 2 3 4 5 6\n",
      "              \n",
      "              \n",
      "              \n",
      "              \n",
      "              \n",
      "    x o   x   \n",
      "0 1 2 3 4 5 6\n",
      "0 1 2 3 4 5 6\n",
      "              \n",
      "              \n",
      "              \n",
      "              \n",
      "      o       \n",
      "    x o   x   \n",
      "0 1 2 3 4 5 6\n",
      "Fibonnacci Number  -->   3\n",
      "0 1 2 3 4 5 6\n",
      "              \n",
      "              \n",
      "              \n",
      "              \n",
      "    x o       \n",
      "    x o   x   \n",
      "0 1 2 3 4 5 6\n",
      "0 1 2 3 4 5 6\n",
      "              \n",
      "              \n",
      "              \n",
      "      o       \n",
      "    x o       \n",
      "    x o   x   \n",
      "0 1 2 3 4 5 6\n",
      "Fibonnacci Number  -->   5\n",
      "0 1 2 3 4 5 6\n",
      "              \n",
      "              \n",
      "              \n",
      "      o       \n",
      "    x o       \n",
      "    x o x x   \n",
      "0 1 2 3 4 5 6\n",
      "0 1 2 3 4 5 6\n",
      "              \n",
      "              \n",
      "      o       \n",
      "      o       \n",
      "    x o       \n",
      "    x o x x   \n",
      "0 1 2 3 4 5 6\n",
      "Winner -1\n"
     ]
    }
   ],
   "source": [
    "class FibonacciAgent(Agent):\n",
    "    def __init__(self):\n",
    "        self.a = 1\n",
    "        self.b = 1\n",
    "        \n",
    "    def move(self, connect_four):\n",
    "        move = random.choice(connect_four.possible_moves())\n",
    "        connect_four.place(move)\n",
    "        \n",
    "        c = self.a + self.b\n",
    "        self.a = self.b\n",
    "        self.b = c\n",
    "        \n",
    "        print('Fibonnacci Number  -->  ', self.a)\n",
    "        \n",
    "evaluate(positive_player=FibonacciAgent())"
   ]
  }
 ],
 "metadata": {
  "kernelspec": {
   "display_name": "Python 3",
   "language": "python",
   "name": "python3"
  },
  "language_info": {
   "codemirror_mode": {
    "name": "ipython",
    "version": 3
   },
   "file_extension": ".py",
   "mimetype": "text/x-python",
   "name": "python",
   "nbconvert_exporter": "python",
   "pygments_lexer": "ipython3",
   "version": "3.5.2"
  }
 },
 "nbformat": 4,
 "nbformat_minor": 2
}
