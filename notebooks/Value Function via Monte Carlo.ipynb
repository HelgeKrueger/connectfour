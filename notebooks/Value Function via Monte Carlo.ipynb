{
 "cells": [
  {
   "cell_type": "markdown",
   "metadata": {},
   "source": [
    "# Defining a value function via Monte Carlo\n",
    "\n",
    "The goal of this notebook is to illustrate the mechanics used to compute a value function via Monte Carlo.\n",
    "For this many instances of `ConnectFour` will be created. Then both players perform random moves until the game ends. The value function is then obtained by averaging whether one won or not."
   ]
  },
  {
   "cell_type": "code",
   "execution_count": 2,
   "metadata": {},
   "outputs": [],
   "source": [
    "import sys\n",
    "sys.path.append('..')\n",
    "\n",
    "from connectfour import ConnectFour\n",
    "import random\n",
    "import numpy as np\n",
    "from time import time"
   ]
  },
  {
   "cell_type": "code",
   "execution_count": 3,
   "metadata": {},
   "outputs": [
    {
     "data": {
      "text/plain": [
       "[1.0, 0.0, 1.0, 1.0, 0.0, 0.0, 1.0, 1.0, 0.0, 1.0]"
      ]
     },
     "execution_count": 3,
     "metadata": {},
     "output_type": "execute_result"
    }
   ],
   "source": [
    "def take_random_move(connect_four):\n",
    "    move = random.choice(connect_four.possible_moves())\n",
    "    connect_four.place(move)\n",
    "    \n",
    "def playout(connect_four):\n",
    "    while not connect_four.game_over():\n",
    "        take_random_move(connect_four)\n",
    "        \n",
    "def determine_one_value():\n",
    "    connect_four = ConnectFour()\n",
    "    playout(connect_four)\n",
    "    \n",
    "    return ((connect_four.winner() or 0) + 1)/2\n",
    "\n",
    "[determine_one_value() for _ in range(10)]"
   ]
  },
  {
   "cell_type": "markdown",
   "metadata": {},
   "source": [
    "# Convergence\n",
    "We now illustrate the convergence behavior of this value function."
   ]
  },
  {
   "cell_type": "code",
   "execution_count": 4,
   "metadata": {},
   "outputs": [
    {
     "name": "stdout",
     "output_type": "stream",
     "text": [
      "Steps     1 value 0.000 time 0.003\n",
      "Steps    10 value 0.400 time 0.024\n",
      "Steps   100 value 0.630 time 0.191\n",
      "Steps  1000 value 0.580 time 1.925\n",
      "Steps 10000 value 0.541 time 19.503\n"
     ]
    }
   ],
   "source": [
    "def determine_value(steps):\n",
    "    start_time = time()\n",
    "    return np.mean([determine_one_value() for _ in range(steps)]), time() - start_time\n",
    "\n",
    "for steps in [1, 10, 100, 1000, 10000]:\n",
    "    v, t = determine_value(steps)\n",
    "    print('Steps {:5} value {:2.3f} time {:2.3f}'.format(steps, v, t))"
   ]
  }
 ],
 "metadata": {
  "kernelspec": {
   "display_name": "Python 3",
   "language": "python",
   "name": "python3"
  },
  "language_info": {
   "codemirror_mode": {
    "name": "ipython",
    "version": 3
   },
   "file_extension": ".py",
   "mimetype": "text/x-python",
   "name": "python",
   "nbconvert_exporter": "python",
   "pygments_lexer": "ipython3",
   "version": "3.5.2"
  }
 },
 "nbformat": 4,
 "nbformat_minor": 2
}
